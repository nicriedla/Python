{
 "cells": [
  {
   "cell_type": "markdown",
   "id": "a54bb44c",
   "metadata": {},
   "source": [
    "# Introdução ao Python\n",
    "- Importar as bibliotecas que serão utilizadas\n",
    "- Importar o arquivo csv\n",
    "\n",
    "## Formas de visualização\n",
    "\n",
    "1. head - Exibe as primeiras linhas do DataFrame\n",
    "2. info - Exibe informações sobre o DataFrame\n",
    "3. describe - Exibe estatísticas descritivas do DataFrame\n",
    "4. isnull - Verifica se há valores nulos no DataFrame\n",
    "5. sum - Retorna a soma dos valores do DataFrame\n",
    "6. to_datetime - Converte a coluna release_date para o tipo datetime\n",
    "7. dtypes - Exibe os tipos de dados das colunas do DataFrame\n",
    "8. print - Exibe as informações solicitadas\n"
   ]
  },
  {
   "cell_type": "code",
   "execution_count": 1,
   "id": "5fdfecc3",
   "metadata": {},
   "outputs": [
    {
     "name": "stdout",
     "output_type": "stream",
     "text": [
      "      budget                                             genres  \\\n",
      "0  237000000  [{\"id\": 28, \"name\": \"Action\"}, {\"id\": 12, \"nam...   \n",
      "1  300000000  [{\"id\": 12, \"name\": \"Adventure\"}, {\"id\": 14, \"...   \n",
      "2  245000000  [{\"id\": 28, \"name\": \"Action\"}, {\"id\": 12, \"nam...   \n",
      "3  250000000  [{\"id\": 28, \"name\": \"Action\"}, {\"id\": 80, \"nam...   \n",
      "4  260000000  [{\"id\": 28, \"name\": \"Action\"}, {\"id\": 12, \"nam...   \n",
      "\n",
      "                                       homepage      id  \\\n",
      "0                   http://www.avatarmovie.com/   19995   \n",
      "1  http://disney.go.com/disneypictures/pirates/     285   \n",
      "2   http://www.sonypictures.com/movies/spectre/  206647   \n",
      "3            http://www.thedarkknightrises.com/   49026   \n",
      "4          http://movies.disney.com/john-carter   49529   \n",
      "\n",
      "                                            keywords original_language  \\\n",
      "0  [{\"id\": 1463, \"name\": \"culture clash\"}, {\"id\":...                en   \n",
      "1  [{\"id\": 270, \"name\": \"ocean\"}, {\"id\": 726, \"na...                en   \n",
      "2  [{\"id\": 470, \"name\": \"spy\"}, {\"id\": 818, \"name...                en   \n",
      "3  [{\"id\": 849, \"name\": \"dc comics\"}, {\"id\": 853,...                en   \n",
      "4  [{\"id\": 818, \"name\": \"based on novel\"}, {\"id\":...                en   \n",
      "\n",
      "                             original_title  \\\n",
      "0                                    Avatar   \n",
      "1  Pirates of the Caribbean: At World's End   \n",
      "2                                   Spectre   \n",
      "3                     The Dark Knight Rises   \n",
      "4                               John Carter   \n",
      "\n",
      "                                            overview  popularity  \\\n",
      "0  In the 22nd century, a paraplegic Marine is di...  150.437577   \n",
      "1  Captain Barbossa, long believed to be dead, ha...  139.082615   \n",
      "2  A cryptic message from Bond’s past sends him o...  107.376788   \n",
      "3  Following the death of District Attorney Harve...  112.312950   \n",
      "4  John Carter is a war-weary, former military ca...   43.926995   \n",
      "\n",
      "                                production_companies  \\\n",
      "0  [{\"name\": \"Ingenious Film Partners\", \"id\": 289...   \n",
      "1  [{\"name\": \"Walt Disney Pictures\", \"id\": 2}, {\"...   \n",
      "2  [{\"name\": \"Columbia Pictures\", \"id\": 5}, {\"nam...   \n",
      "3  [{\"name\": \"Legendary Pictures\", \"id\": 923}, {\"...   \n",
      "4        [{\"name\": \"Walt Disney Pictures\", \"id\": 2}]   \n",
      "\n",
      "                                production_countries release_date     revenue  \\\n",
      "0  [{\"iso_3166_1\": \"US\", \"name\": \"United States o...   2009-12-10  2787965087   \n",
      "1  [{\"iso_3166_1\": \"US\", \"name\": \"United States o...   2007-05-19   961000000   \n",
      "2  [{\"iso_3166_1\": \"GB\", \"name\": \"United Kingdom\"...   2015-10-26   880674609   \n",
      "3  [{\"iso_3166_1\": \"US\", \"name\": \"United States o...   2012-07-16  1084939099   \n",
      "4  [{\"iso_3166_1\": \"US\", \"name\": \"United States o...   2012-03-07   284139100   \n",
      "\n",
      "   runtime                                   spoken_languages    status  \\\n",
      "0    162.0  [{\"iso_639_1\": \"en\", \"name\": \"English\"}, {\"iso...  Released   \n",
      "1    169.0           [{\"iso_639_1\": \"en\", \"name\": \"English\"}]  Released   \n",
      "2    148.0  [{\"iso_639_1\": \"fr\", \"name\": \"Fran\\u00e7ais\"},...  Released   \n",
      "3    165.0           [{\"iso_639_1\": \"en\", \"name\": \"English\"}]  Released   \n",
      "4    132.0           [{\"iso_639_1\": \"en\", \"name\": \"English\"}]  Released   \n",
      "\n",
      "                                          tagline  \\\n",
      "0                     Enter the World of Pandora.   \n",
      "1  At the end of the world, the adventure begins.   \n",
      "2                           A Plan No One Escapes   \n",
      "3                                 The Legend Ends   \n",
      "4            Lost in our world, found in another.   \n",
      "\n",
      "                                      title  vote_average  vote_count  \n",
      "0                                    Avatar           7.2       11800  \n",
      "1  Pirates of the Caribbean: At World's End           6.9        4500  \n",
      "2                                   Spectre           6.3        4466  \n",
      "3                     The Dark Knight Rises           7.6        9106  \n",
      "4                               John Carter           6.1        2124  \n",
      "<class 'pandas.core.frame.DataFrame'>\n",
      "RangeIndex: 4803 entries, 0 to 4802\n",
      "Data columns (total 20 columns):\n",
      " #   Column                Non-Null Count  Dtype  \n",
      "---  ------                --------------  -----  \n",
      " 0   budget                4803 non-null   int64  \n",
      " 1   genres                4803 non-null   object \n",
      " 2   homepage              1712 non-null   object \n",
      " 3   id                    4803 non-null   int64  \n",
      " 4   keywords              4803 non-null   object \n",
      " 5   original_language     4803 non-null   object \n",
      " 6   original_title        4803 non-null   object \n",
      " 7   overview              4800 non-null   object \n",
      " 8   popularity            4803 non-null   float64\n",
      " 9   production_companies  4803 non-null   object \n",
      " 10  production_countries  4803 non-null   object \n",
      " 11  release_date          4802 non-null   object \n",
      " 12  revenue               4803 non-null   int64  \n",
      " 13  runtime               4801 non-null   float64\n",
      " 14  spoken_languages      4803 non-null   object \n",
      " 15  status                4803 non-null   object \n",
      " 16  tagline               3959 non-null   object \n",
      " 17  title                 4803 non-null   object \n",
      " 18  vote_average          4803 non-null   float64\n",
      " 19  vote_count            4803 non-null   int64  \n",
      "dtypes: float64(3), int64(4), object(13)\n",
      "memory usage: 750.6+ KB\n",
      "None\n",
      "             budget             id   popularity       revenue      runtime  \\\n",
      "count  4.803000e+03    4803.000000  4803.000000  4.803000e+03  4801.000000   \n",
      "mean   2.904504e+07   57165.484281    21.492301  8.226064e+07   106.875859   \n",
      "std    4.072239e+07   88694.614033    31.816650  1.628571e+08    22.611935   \n",
      "min    0.000000e+00       5.000000     0.000000  0.000000e+00     0.000000   \n",
      "25%    7.900000e+05    9014.500000     4.668070  0.000000e+00    94.000000   \n",
      "50%    1.500000e+07   14629.000000    12.921594  1.917000e+07   103.000000   \n",
      "75%    4.000000e+07   58610.500000    28.313505  9.291719e+07   118.000000   \n",
      "max    3.800000e+08  459488.000000   875.581305  2.787965e+09   338.000000   \n",
      "\n",
      "       vote_average    vote_count  \n",
      "count   4803.000000   4803.000000  \n",
      "mean       6.092172    690.217989  \n",
      "std        1.194612   1234.585891  \n",
      "min        0.000000      0.000000  \n",
      "25%        5.600000     54.000000  \n",
      "50%        6.200000    235.000000  \n",
      "75%        6.800000    737.000000  \n",
      "max       10.000000  13752.000000  \n",
      "budget                     0\n",
      "genres                     0\n",
      "homepage                3091\n",
      "id                         0\n",
      "keywords                   0\n",
      "original_language          0\n",
      "original_title             0\n",
      "overview                   3\n",
      "popularity                 0\n",
      "production_companies       0\n",
      "production_countries       0\n",
      "release_date               1\n",
      "revenue                    0\n",
      "runtime                    2\n",
      "spoken_languages           0\n",
      "status                     0\n",
      "tagline                  844\n",
      "title                      0\n",
      "vote_average               0\n",
      "vote_count                 0\n",
      "dtype: int64\n",
      "budget                           int64\n",
      "genres                          object\n",
      "homepage                        object\n",
      "id                               int64\n",
      "keywords                        object\n",
      "original_language               object\n",
      "original_title                  object\n",
      "overview                        object\n",
      "popularity                     float64\n",
      "production_companies            object\n",
      "production_countries            object\n",
      "release_date            datetime64[ns]\n",
      "revenue                          int64\n",
      "runtime                        float64\n",
      "spoken_languages                object\n",
      "status                          object\n",
      "tagline                         object\n",
      "title                           object\n",
      "vote_average                   float64\n",
      "vote_count                       int64\n",
      "dtype: object\n"
     ]
    }
   ],
   "source": [
    "import pandas as pd\n",
    "\n",
    "df = pd.read_csv('tmdb_5000_movies.csv')\n",
    "\n",
    "print(df.head())\n",
    "print(df.info())\n",
    "print(df.describe())\n",
    "print(df.isnull().sum())\n",
    "\n",
    "df['release_date'] = pd.to_datetime(df['release_date'], errors = 'coerce')\n",
    "print(df.dtypes)"
   ]
  },
  {
   "cell_type": "markdown",
   "id": "db6f7887",
   "metadata": {},
   "source": [
    "- Faz as importações das bibliotecas novamente\n",
    "- Faz a leitura do arquivo csv novamente\n",
    "\n",
    "1. sort_values - Ordena o DataFrame com base em uma ou mais colunas\n",
    "2. Exibe as colunas de title, budget e revenue \n",
    "3. mt.figure - Cria uma figura para visualização\n",
    "4. mt.bar - Cria um gráfico de barras, analisando as colunas title e revenue\n",
    "5. mt.xticks - Define os rótulos do eixo x\n",
    "6. mt.title - Define o título do gráfico\n",
    "7. mt.xlabel - Define o título do eixo x\n",
    "8. mt.ylabel - Define o título do eixo y\n",
    "9. mt.tight_layout - Ajusta o layout da figura\n",
    "10. mt.show - Exibe a figura"
   ]
  },
  {
   "cell_type": "code",
   "execution_count": 2,
   "id": "ec1413d4",
   "metadata": {},
   "outputs": [
    {
     "name": "stdout",
     "output_type": "stream",
     "text": [
      "                          title     budget     revenue\n",
      "0                        Avatar  237000000  2787965087\n",
      "25                      Titanic  200000000  1845034188\n",
      "16                 The Avengers  220000000  1519557910\n",
      "28               Jurassic World  150000000  1513528810\n",
      "44                    Furious 7  190000000  1506249360\n",
      "7       Avengers: Age of Ultron  280000000  1405403694\n",
      "124                      Frozen  150000000  1274219009\n",
      "31                   Iron Man 3  200000000  1215439994\n",
      "546                     Minions   74000000  1156730962\n",
      "26   Captain America: Civil War  250000000  1153304495\n"
     ]
    },
    {
     "data": {
      "image/png": "[encoded data removed]",
      "text/plain": [
       "<Figure size 1200x600 with 1 Axes>"
      ]
     },
     "metadata": {},
     "output_type": "display_data"
    }
   ],
   "source": [
    "import pandas as pd\n",
    "import matplotlib.pyplot as mt\n",
    "\n",
    "df = pd.read_csv('tmdb_5000_movies.csv')\n",
    "top_10 = df.sort_values('revenue', ascending=False).head(10)\n",
    "\n",
    "print(top_10[['title', 'budget', 'revenue']])\n",
    "\n",
    "mt.figure(figsize=(12, 6))\n",
    "mt.bar(top_10['title'], top_10['revenue'])\n",
    "mt.xticks(rotation=45, ha='right')\n",
    "mt.title('Top 10 filmes por receita')\n",
    "mt.xlabel('Filme')\n",
    "mt.ylabel('Receita')\n",
    "mt.tight_layout()\n",
    "mt.show()\n"
   ]
  },
  {
   "cell_type": "code",
   "execution_count": 3,
   "id": "17992112",
   "metadata": {},
   "outputs": [
    {
     "name": "stdout",
     "output_type": "stream",
     "text": [
      "                        title           roi\n",
      "4238             Modern Times  8.499999e+06\n",
      "3137                Nurse 3-D  9.999990e+05\n",
      "4577      Paranormal Activity  1.288939e+04\n",
      "4582                Tarnation  5.329339e+03\n",
      "4496  The Blair Witch Project  4.132333e+03\n",
      "4724               Eraserhead  6.990000e+02\n",
      "4788           Pink Flamingos  4.990000e+02\n",
      "4742            Super Size Me  4.386166e+02\n",
      "4723              The Gallows  4.256441e+02\n",
      "4514               Open Water  4.195227e+02\n"
     ]
    }
   ],
   "source": [
    "import pandas as pd\n",
    "\n",
    "df = pd.read_csv('tmdb_5000_movies.csv')\n",
    "df = df[df['budget'] > 0]\n",
    "df['roi'] = (df['revenue'] - df['budget']) / df['budget']\n",
    "\n",
    "print(df[['title', 'roi']].sort_values(by='roi', ascending=False).head(10))"
   ]
  },
  {
   "cell_type": "code",
   "execution_count": 4,
   "id": "af71607b",
   "metadata": {},
   "outputs": [
    {
     "name": "stderr",
     "output_type": "stream",
     "text": [
      "C:\\Users\\Inteli\\AppData\\Local\\Packages\\PythonSoftwareFoundation.Python.3.12_qbz5n2kfra8p0\\LocalCache\\local-packages\\Python312\\site-packages\\matplotlib\\_tight_bbox.py:67: RuntimeWarning: divide by zero encountered in scalar divide\n",
      "  fig.patch.set_bounds(x0 / w1, y0 / h1,\n",
      "C:\\Users\\Inteli\\AppData\\Local\\Packages\\PythonSoftwareFoundation.Python.3.12_qbz5n2kfra8p0\\LocalCache\\local-packages\\Python312\\site-packages\\matplotlib\\_tight_bbox.py:68: RuntimeWarning: divide by zero encountered in scalar divide\n",
      "  fig.bbox.width / w1, fig.bbox.height / h1)\n",
      "C:\\Users\\Inteli\\AppData\\Local\\Packages\\PythonSoftwareFoundation.Python.3.12_qbz5n2kfra8p0\\LocalCache\\local-packages\\Python312\\site-packages\\matplotlib\\patches.py:797: RuntimeWarning: invalid value encountered in scalar add\n",
      "  y1 = self.convert_yunits(self._y0 + self._height)\n",
      "C:\\Users\\Inteli\\AppData\\Local\\Packages\\PythonSoftwareFoundation.Python.3.12_qbz5n2kfra8p0\\LocalCache\\local-packages\\Python312\\site-packages\\matplotlib\\transforms.py:2037: RuntimeWarning: invalid value encountered in scalar add\n",
      "  self._mtx[1, 2] += ty\n",
      "C:\\Users\\Inteli\\AppData\\Local\\Packages\\PythonSoftwareFoundation.Python.3.12_qbz5n2kfra8p0\\LocalCache\\local-packages\\Python312\\site-packages\\matplotlib\\transforms.py:2437: RuntimeWarning: invalid value encountered in dot\n",
      "  return Affine2D(np.dot(self._b.get_affine().get_matrix(),\n"
     ]
    },
    {
     "data": {
      "image/png": "[encoded data removed]",
      "text/plain": [
       "<Figure size 1000x0 with 1 Axes>"
      ]
     },
     "metadata": {},
     "output_type": "display_data"
    }
   ],
   "source": [
    "import pandas as pd\n",
    "import matplotlib.pyplot as mt\n",
    "\n",
    "df = pd.read_csv('tmdb_5000_movies.csv')\n",
    "df['release_date'] = pd.to_datetime(df['release_date'], errors='coerce')\n",
    "df['year'] = df['release_date'].dt.year\n",
    "\n",
    "count_by_year = df['year'].value_counts().sort_index()\n",
    "\n",
    "count_by_year.plot(kind='line', figsize=(10, 0), title='Filmes lançados por ano')\n",
    "mt.xlabel('Ano')\n",
    "mt.ylabel('Quantidade de filmes')\n",
    "mt.grid(True)\n",
    "mt.show()"
   ]
  },
  {
   "cell_type": "code",
   "execution_count": 5,
   "id": "f6995bb0",
   "metadata": {},
   "outputs": [
    {
     "data": {
      "image/png": "[encoded data removed]",
      "text/plain": [
       "<Figure size 640x480 with 1 Axes>"
      ]
     },
     "metadata": {},
     "output_type": "display_data"
    }
   ],
   "source": [
    "import pandas as pd\n",
    "import matplotlib.pyplot as mt\n",
    "\n",
    "df = pd.read_csv('tmdb_5000_movies.csv')\n",
    "\n",
    "mt.hist(df['runtime'].dropna(), bins=30)\n",
    "mt.title('Distribuição da Diração dos Filmes')\n",
    "mt.xlabel('Minutos')\n",
    "mt.ylabel('Frequência')\n",
    "mt.show()"
   ]
  },
  {
   "cell_type": "code",
   "execution_count": 6,
   "id": "aa2344fa",
   "metadata": {},
   "outputs": [
    {
     "name": "stdout",
     "output_type": "stream",
     "text": [
      "Top 10 por popularidade\n",
      "                                                 title  popularity\n",
      "546                                            Minions  875.581305\n",
      "95                                        Interstellar  724.247784\n",
      "788                                           Deadpool  514.569956\n",
      "94                             Guardians of the Galaxy  481.098624\n",
      "127                                 Mad Max: Fury Road  434.278564\n",
      "28                                      Jurassic World  418.708552\n",
      "199  Pirates of the Caribbean: The Curse of the Bla...  271.972889\n",
      "82                      Dawn of the Planet of the Apes  243.791743\n",
      "200              The Hunger Games: Mockingjay - Part 1  206.227151\n",
      "88                                          Big Hero 6  203.734590\n",
      "\n",
      "Top 10 por número de votos:\n",
      "                       title  vote_count\n",
      "96                 Inception       13752\n",
      "65           The Dark Knight       12002\n",
      "0                     Avatar       11800\n",
      "16              The Avengers       11776\n",
      "788                 Deadpool       10995\n",
      "95              Interstellar       10867\n",
      "287         Django Unchained       10099\n",
      "94   Guardians of the Galaxy        9742\n",
      "426         The Hunger Games        9455\n",
      "127       Mad Max: Fury Road        9427\n"
     ]
    }
   ],
   "source": [
    "import pandas as pd\n",
    "\n",
    "df = pd.read_csv('tmdb_5000_movies.csv')\n",
    "\n",
    "print('Top 10 por popularidade')\n",
    "print(df[['title', 'popularity']].sort_values(by='popularity', ascending=False).head(10))\n",
    "\n",
    "print('\\nTop 10 por número de votos:')\n",
    "print(df[['title', 'vote_count']].sort_values(by='vote_count', ascending=False).head(10))"
   ]
  },
  {
   "cell_type": "code",
   "execution_count": 7,
   "id": "5e81bc7a",
   "metadata": {},
   "outputs": [
    {
     "name": "stdout",
     "output_type": "stream",
     "text": [
      "original_language\n",
      "te    7.500000\n",
      "id    7.400000\n",
      "he    7.400000\n",
      "fa    7.375000\n",
      "ar    7.300000\n",
      "nl    7.175000\n",
      "da    7.128571\n",
      "pl    7.100000\n",
      "xx    7.100000\n",
      "sv    7.060000\n",
      "ja    7.050000\n",
      "it    7.028571\n",
      "af    6.900000\n",
      "el    6.900000\n",
      "is    6.900000\n",
      "nb    6.700000\n",
      "ko    6.672727\n",
      "es    6.659375\n",
      "cn    6.500000\n",
      "hu    6.500000\n",
      "fr    6.430000\n",
      "pt    6.388889\n",
      "ru    6.354545\n",
      "de    6.325926\n",
      "zh    6.300000\n",
      "ps    6.300000\n",
      "no    6.100000\n",
      "en    6.065683\n",
      "hi    6.010526\n",
      "sl    6.000000\n",
      "th    5.966667\n",
      "ta    5.850000\n",
      "cs    5.650000\n",
      "vi    5.000000\n",
      "tr    4.300000\n",
      "ro    3.650000\n",
      "ky    0.000000\n",
      "Name: vote_average, dtype: float64\n"
     ]
    }
   ],
   "source": [
    "import pandas as pd\n",
    "\n",
    "df = pd.read_csv('tmdb_5000_movies.csv')\n",
    "\n",
    "avg_by_lang = df.groupby('original_language')['vote_average'].mean().sort_values(ascending=False)\n",
    "print(avg_by_lang)"
   ]
  },
  {
   "cell_type": "code",
   "execution_count": 8,
   "id": "f024014a",
   "metadata": {},
   "outputs": [
    {
     "name": "stdout",
     "output_type": "stream",
     "text": [
      "[('Drama', 2297), ('Comedy', 1722), ('Thriller', 1274), ('Action', 1154), ('Romance', 894), ('Adventure', 790), ('Crime', 696), ('Science Fiction', 535), ('Horror', 519), ('Family', 513)]\n"
     ]
    }
   ],
   "source": [
    "import pandas as pd\n",
    "import ast\n",
    "from collections import Counter\n",
    "\n",
    "df = pd.read_csv('tmdb_5000_movies.csv')\n",
    "df['genres'] = df['genres'].apply(lambda x: [d['name'] for d in ast.literal_eval(x)] if pd.notnull(x) else[])\n",
    "\n",
    "all_genres = sum(df['genres'], [])\n",
    "genres_counts = Counter(all_genres)\n",
    "\n",
    "print(genres_counts.most_common(10))"
   ]
  },
  {
   "cell_type": "code",
   "execution_count": 9,
   "id": "73f157bc",
   "metadata": {},
   "outputs": [
    {
     "name": "stdout",
     "output_type": "stream",
     "text": [
      "[('woman director', 324), ('independent film', 318), ('duringcreditsstinger', 307), ('based on novel', 197), ('murder', 189), ('aftercreditsstinger', 170), ('violence', 150), ('dystopia', 139), ('sport', 126), ('revenge', 118)]\n"
     ]
    }
   ],
   "source": [
    "import pandas as pd\n",
    "import ast\n",
    "from collections import Counter\n",
    "\n",
    "df = pd.read_csv('tmdb_5000_movies.csv')\n",
    "df['keywords'] = df['keywords'].apply(lambda x: [d['name'] for d in ast.literal_eval(x)] if pd.notnull(x) else[])\n",
    "\n",
    "all_keyworks = sum(df['keywords'], [])\n",
    "keyworks_counts = Counter(all_keyworks)\n",
    "\n",
    "print(keyworks_counts.most_common(10))"
   ]
  },
  {
   "cell_type": "code",
   "execution_count": 10,
   "id": "3e1b747f",
   "metadata": {},
   "outputs": [
    {
     "name": "stdout",
     "output_type": "stream",
     "text": [
      "[('Warner Bros.', 319), ('Universal Pictures', 311), ('Paramount Pictures', 285), ('Twentieth Century Fox Film Corporation', 222), ('Columbia Pictures', 201), ('New Line Cinema', 165), ('Metro-Goldwyn-Mayer (MGM)', 122), ('Touchstone Pictures', 118), ('Walt Disney Pictures', 114), ('Relativity Media', 102)]\n"
     ]
    }
   ],
   "source": [
    "import pandas as pd\n",
    "import ast\n",
    "from collections import Counter\n",
    "\n",
    "df = pd.read_csv('tmdb_5000_movies.csv')\n",
    "df['production_companies'] = df['production_companies'].apply(lambda x: [d['name'] for d in ast.literal_eval(x)] if pd.notnull(x) else[])\n",
    "\n",
    "all_companies = sum(df['production_companies'], [])\n",
    "company_counts = Counter(all_companies)\n",
    "\n",
    "print(company_counts.most_common(10))"
   ]
  }
 ],
 "metadata": {
  "kernelspec": {
   "display_name": "Python 3",
   "language": "python",
   "name": "python3"
  },
  "language_info": {
   "codemirror_mode": {
    "name": "ipython",
    "version": 3
   },
   "file_extension": ".py",
   "mimetype": "text/x-python",
   "name": "python",
   "nbconvert_exporter": "python",
   "pygments_lexer": "ipython3",
   "version": "3.12.10"
  }
 },
 "nbformat": 4,
 "nbformat_minor": 5
}
